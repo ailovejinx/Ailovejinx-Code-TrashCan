{
 "cells": [
  {
   "cell_type": "code",
   "execution_count": 1,
   "metadata": {},
   "outputs": [],
   "source": [
    "import cv2 as cv\n",
    "import pandas as pd\n",
    "import matplotlib.pyplot as plt\n",
    "import time"
   ]
  },
  {
   "cell_type": "code",
   "execution_count": 2,
   "metadata": {},
   "outputs": [],
   "source": [
    "# # 读取label\n",
    "# n = 10\n",
    "\n",
    "# id = str(n)\n",
    "# id = id.zfill(6)\n",
    "# labels = pd.read_csv('./label_2/' + id + '.txt', sep=' ', names=['type', 'distance', 'truncated', 'occluded', 'alpha', 'xmin', 'ymin', 'xmax', 'ymax'])\n",
    "# # print(labels)\n",
    "# # labels.describe()\n",
    "\n",
    "# # 读取照片\n",
    "# img_name = './image_2/' + id + '.png'\n",
    "# img = cv.imread(img_name)\n",
    "# # cv.imshow('1', img)\n",
    "# # cv.waitKey(0)\n"
   ]
  },
  {
   "cell_type": "code",
   "execution_count": 105,
   "metadata": {},
   "outputs": [
    {
     "name": "stdout",
     "output_type": "stream",
     "text": [
      "         type  track_id  truncated  occluded     alpha      xmin     ymin  \\\n",
      "0  Pedestrian    573193          0         0 -0.530218  1334.550  538.196   \n",
      "1         Car     88841          0         0  1.843390   598.944  545.683   \n",
      "2         Car    257287          0         0 -2.127000  1258.840  544.595   \n",
      "3         Car    565769          0         0 -1.514540   902.924  412.945   \n",
      "4         Car    669193          0         0 -1.490530   862.435  543.988   \n",
      "5         Van    727302          0         0  1.496210  1449.180  528.489   \n",
      "6         Car    739337          1         0  2.296570  -403.704  563.454   \n",
      "7         Car    723206          1         0 -2.152690  1859.870  526.944   \n",
      "\n",
      "       xmax     ymax     dimx     dimy     dimz       x3D      y3D      z3D  \\\n",
      "0  1363.300  595.173  2.15849  1.21950  0.50000  14.95120  2.10934  44.5154   \n",
      "1   692.732  600.538  1.82555  2.04542  4.51651 -10.99280  2.05590  40.8083   \n",
      "2  1327.800  591.233  2.02542  1.59171  3.03697  14.92440  2.26048  51.9667   \n",
      "3   930.095  572.455  1.82555  2.04542  4.51651  -3.65301  2.71014  98.0457   \n",
      "4   900.498  587.036  2.02542  1.59171  3.03697  -3.77586  2.23042  56.0354   \n",
      "5  1552.940  604.794  2.13106  2.40520  5.54960  16.38810  1.89105  35.3561   \n",
      "6   169.536  720.055  1.45590  2.04265  5.07782 -12.09320  1.75659  13.6604   \n",
      "7  2278.930  675.404  1.84646  2.13715  5.47710  17.32340  1.78085  18.6207   \n",
      "\n",
      "       r_y  \n",
      "0 -0.20626  \n",
      "1  1.58029  \n",
      "2 -1.84735  \n",
      "3 -1.55178  \n",
      "4 -1.55781  \n",
      "5  1.93016  \n",
      "6  1.57218  \n",
      "7 -1.40356  \n"
     ]
    }
   ],
   "source": [
    "#读取label\n",
    "n = 407\n",
    "\n",
    "id = str(n)\n",
    "id = id.zfill(6)\n",
    "labels = pd.read_csv('./label_2/' + id + '.txt', sep=' ', index_col=False, names=['type', 'track_id', 'truncated', 'occluded', 'alpha', 'xmin', 'ymin', 'xmax', 'ymax', 'dimx', 'dimy', 'dimz', 'x3D', 'y3D', 'z3D', 'r_y'])\n",
    "print(labels), \n",
    "# labels.describe()\n",
    "\n",
    "# 读取照片\n",
    "img_name = './image_2/' + id + '.png'\n",
    "img = cv.imread(img_name)\n",
    "# cv.imshow('1', img)\n",
    "# cv.waitKey(0)\n",
    "\n",
    "# 预览图片\n",
    "# for i in range(len(labels_sec)):\n",
    "#     cv.circle(img, (int(labels_sec['2D_x'].iloc[i]), int(\n",
    "#         labels_sec['2D_y'].iloc[i])), radius=5, color=(0, 0, 255))\n",
    "for i in range(0,len(labels)):\n",
    "    # 读取某行\n",
    "    label = labels.iloc[i, :]\n",
    "    # print(label)\n",
    "\n",
    "    xmin = int(label[5])\n",
    "    ymin = int(label[6])\n",
    "    xmax = int(label[7])\n",
    "    ymax = int(label[8])\n",
    "    # print(xmin, ymin, xmax, ymax)\n",
    "\n",
    "    cv.rectangle(img, (xmin, ymin), (xmax, ymax), (0, 255, 0), 2)\n",
    "    # cv.circle(img, (xmin, ymin),5,(255,0,0))\n",
    "\n",
    "    # plt.imshow(img[:,:,::-1])\n",
    "    # plt.show()\n",
    "cv.imshow('1', img)\n",
    "\n",
    "# 等待ESC 退出显示\n",
    "key = 0\n",
    "while True:\n",
    "    key = cv.waitKey()\n",
    "    if key == 27:\n",
    "        break\n",
    "\n",
    "cv.destroyAllWindows()\n"
   ]
  },
  {
   "cell_type": "markdown",
   "metadata": {},
   "source": [
    "画KITTI数据集的sample"
   ]
  },
  {
   "cell_type": "code",
   "execution_count": null,
   "metadata": {},
   "outputs": [],
   "source": [
    "sample = pd.read_csv('data_tracking_image_2/example.csv')\n",
    "sample_sec = sample.loc[sample['frame']==1]\n",
    "sample_sec"
   ]
  },
  {
   "cell_type": "code",
   "execution_count": null,
   "metadata": {},
   "outputs": [],
   "source": [
    "img_sample = cv.imread('000195.png')\n",
    "\n",
    "for i in range(len(sample_sec)):\n",
    "    xmin=int(sample_sec['bbox'].iloc[i])\n",
    "    ymin=int(sample_sec['Unnamed: 7'].iloc[i])\n",
    "    xmax=int(sample_sec['Unnamed: 8'].iloc[i])\n",
    "    ymax=int(sample_sec['Unnamed: 9'].iloc[i])\n",
    "\n",
    "    cv.rectangle(img_sample, (xmin, ymin), (xmax, ymax), (0, 255, 0))\n",
    "    \n",
    "cv.imshow('1',img_sample)\n",
    "# 等待ESC 退出显示\n",
    "key = 0\n",
    "while True:\n",
    "    key = cv.waitKey()\n",
    "    if key == 27:\n",
    "        break\n",
    "\n",
    "cv.destroyAllWindows()"
   ]
  },
  {
   "cell_type": "code",
   "execution_count": 2,
   "metadata": {},
   "outputs": [],
   "source": [
    "img_sample = cv.imread('1539101492304_final.jpg')\n",
    "\n",
    "# for i in range(len(sample_sec)):\n",
    "#     xmin=int(sample_sec['bbox'].iloc[i])\n",
    "#     ymin=int(sample_sec['Unnamed: 7'].iloc[i])\n",
    "#     xmax=int(sample_sec['Unnamed: 8'].iloc[i])\n",
    "#     ymax=int(sample_sec['Unnamed: 9'].iloc[i])\n",
    "\n",
    "#     cv.rectangle(img_sample, (xmin, ymin), (xmax, ymax), (0, 255, 0))\n",
    "cv.rectangle(img_sample, (828, 516), (881, 539), (0, 255, 0))\n",
    "    \n",
    "cv.imshow('1',img_sample)\n",
    "# 等待ESC 退出显示\n",
    "key = 0\n",
    "while True:\n",
    "    key = cv.waitKey()\n",
    "    if key == 27:\n",
    "        break\n",
    "\n",
    "cv.destroyAllWindows()"
   ]
  }
 ],
 "metadata": {
  "kernelspec": {
   "display_name": "Python 3.8.13 ('Pytorch')",
   "language": "python",
   "name": "python3"
  },
  "language_info": {
   "codemirror_mode": {
    "name": "ipython",
    "version": 3
   },
   "file_extension": ".py",
   "mimetype": "text/x-python",
   "name": "python",
   "nbconvert_exporter": "python",
   "pygments_lexer": "ipython3",
   "version": "3.8.13"
  },
  "orig_nbformat": 4,
  "vscode": {
   "interpreter": {
    "hash": "022bfe3c57eee45a54a5e7356faf970f4f67bca833342802473583f022c3e13a"
   }
  }
 },
 "nbformat": 4,
 "nbformat_minor": 2
}
